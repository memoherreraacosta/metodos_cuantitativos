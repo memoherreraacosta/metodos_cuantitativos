{
 "cells": [
  {
   "cell_type": "code",
   "execution_count": 3,
   "metadata": {},
   "outputs": [],
   "source": [
    "import matplotlib.pyplot as plt\n",
    "\n",
    "from random import random, uniform \n",
    "from math import sqrt,log1p, cos, sin, pi, e"
   ]
  },
  {
   "cell_type": "code",
   "execution_count": 4,
   "metadata": {},
   "outputs": [],
   "source": [
    "def box_muller(r1, r2):\n",
    "    x1 = sqrt(-2*log(r1))*cos(2*r2*pi)\n",
    "    x2 = sqrt(-2*log(r2))*sin(2*r1*pi)\n",
    "    return x1, x2\n",
    "    \n",
    "\n",
    "def box_muller_polar(r1, r2):\n",
    "    x1 = sqrt(-2*log(r1*r1 + r2*r2))*(r1/(sqrt(r1*r1 + r2*r2)))\n",
    "    x2 = sqrt(-2*log(r2*r2 + r1*r1))*(r2/(sqrt(r1*r1 + r2*r2)))\n",
    "    return x1, x2\n",
    "\n",
    "\n",
    "def exponencial(x, lam = 1):\n",
    "    return pow(lam*e, -lam*x)"
   ]
  },
  {
   "cell_type": "code",
   "execution_count": 5,
   "metadata": {},
   "outputs": [
    {
     "data": {
      "text/plain": [
       "'\\nrandom_num = [uniform(-1,1) for number in range(range_numbers)]\\nnorm_list = []\\nfor number in range(0, range_numbers, 2):\\n    x1, x2 = box_muller_polar(random_num[number], random_num[number + 1])\\n    norm_list.append(x1)\\n    norm_list.append(x2)\\n'"
      ]
     },
     "execution_count": 5,
     "metadata": {},
     "output_type": "execute_result"
    }
   ],
   "source": [
    "range_numbers = 100000\n",
    "random_num = [random() for number in range(range_numbers)]\n",
    "\"\"\"\n",
    "random_num = [uniform(-1,1) for number in range(range_numbers)]\n",
    "norm_list = []\n",
    "for number in range(0, range_numbers, 2):\n",
    "    x1, x2 = box_muller_polar(random_num[number], random_num[number + 1])\n",
    "    norm_list.append(x1)\n",
    "    norm_list.append(x2)\n",
    "\"\"\""
   ]
  },
  {
   "cell_type": "code",
   "execution_count": 7,
   "metadata": {},
   "outputs": [
    {
     "data": {
      "image/png": "[encoded data removed]",
      "text/plain": [
       "<Figure size 432x288 with 1 Axes>"
      ]
     },
     "metadata": {
      "needs_background": "light"
     },
     "output_type": "display_data"
    },
    {
     "name": "stdout",
     "output_type": "stream",
     "text": [
      "0.36787944117144233\n"
     ]
    }
   ],
   "source": [
    "_ = plt.hist(random_num)  \n",
    "#_ = plt.hist(norm_list)\n",
    "plt.show()"
   ]
  },
  {
   "cell_type": "code",
   "execution_count": null,
   "metadata": {},
   "outputs": [],
   "source": []
  }
 ],
 "metadata": {
  "kernelspec": {
   "display_name": "Python 3",
   "language": "python",
   "name": "python3"
  },
  "language_info": {
   "codemirror_mode": {
    "name": "ipython",
    "version": 3
   },
   "file_extension": ".py",
   "mimetype": "text/x-python",
   "name": "python",
   "nbconvert_exporter": "python",
   "pygments_lexer": "ipython3",
   "version": "3.7.1"
  }
 },
 "nbformat": 4,
 "nbformat_minor": 2
}
